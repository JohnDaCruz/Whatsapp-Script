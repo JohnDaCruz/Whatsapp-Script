{
 "cells": [
  {
   "cell_type": "code",
   "execution_count": 1,
   "id": "7fe36f97-f615-4c7a-a669-10562eb3282b",
   "metadata": {},
   "outputs": [],
   "source": [
    "import pyautogui\n",
    "import pyperclip\n",
    "import time\n",
    "\n",
    "pyautogui.PAUSE = 4\n",
    "#Variáveis prim\n",
    "wpp = 'https://web.whatsapp.com/'\n",
    "\n",
    "#Entrando no whatsapp\n",
    "pyperclip.copy(wpp)\n",
    "pyautogui.hotkey('ctrl','t')\n",
    "pyautogui.hotkey('ctrl','v')\n",
    "pyautogui.press('enter')\n",
    "\n",
    "lista = ['Nome/número de contatos']\n",
    "\n",
    "def users():\n",
    "    k = 0\n",
    "    while k < len(lista):\n",
    "        #Pesquisando usuário\n",
    "        pyautogui.click(265, 250)\n",
    "        pyautogui.write(lista[k])\n",
    "        pyautogui.press('enter')\n",
    "        nm = lista[k]\n",
    "        #Enviando mensagem para usuário\n",
    "        msg = f'{nm}, isso é apenas um teste de automação'\n",
    "        pyperclip.copy(msg)\n",
    "        pyautogui.hotkey('ctrl','v')\n",
    "        pyautogui.press('enter')\n",
    "        k = k + 1\n",
    "        time.sleep(2)\n",
    "users()"
   ]
  },
  {
   "cell_type": "code",
   "execution_count": null,
   "id": "4c58e840-517b-453e-b0b4-705e1fb4b1e6",
   "metadata": {},
   "outputs": [],
   "source": []
  }
 ],
 "metadata": {
  "kernelspec": {
   "display_name": "Python 3 (ipykernel)",
   "language": "python",
   "name": "python3"
  },
  "language_info": {
   "codemirror_mode": {
    "name": "ipython",
    "version": 3
   },
   "file_extension": ".py",
   "mimetype": "text/x-python",
   "name": "python",
   "nbconvert_exporter": "python",
   "pygments_lexer": "ipython3",
   "version": "3.11.1"
  }
 },
 "nbformat": 4,
 "nbformat_minor": 5
}
